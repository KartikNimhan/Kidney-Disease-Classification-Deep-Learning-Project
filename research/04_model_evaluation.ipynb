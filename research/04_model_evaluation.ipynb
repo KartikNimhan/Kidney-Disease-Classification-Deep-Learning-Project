{
 "cells": [
  {
   "cell_type": "code",
   "execution_count": 1,
   "metadata": {},
   "outputs": [],
   "source": [
    "\n",
    "import os"
   ]
  },
  {
   "cell_type": "code",
   "execution_count": 2,
   "metadata": {},
   "outputs": [
    {
     "data": {
      "text/plain": [
       "'d:\\\\End to end machine learning projects\\\\Kidney Disease classification predication\\\\Kidney-Disease-Classification-Deep-Learning-Project\\\\research'"
      ]
     },
     "execution_count": 2,
     "metadata": {},
     "output_type": "execute_result"
    }
   ],
   "source": [
    "\n",
    "%pwd"
   ]
  },
  {
   "cell_type": "code",
   "execution_count": 3,
   "metadata": {},
   "outputs": [],
   "source": [
    "\n",
    "os.chdir(\"../\")"
   ]
  },
  {
   "cell_type": "code",
   "execution_count": 4,
   "metadata": {},
   "outputs": [
    {
     "data": {
      "text/plain": [
       "'d:\\\\End to end machine learning projects\\\\Kidney Disease classification predication\\\\Kidney-Disease-Classification-Deep-Learning-Project'"
      ]
     },
     "execution_count": 4,
     "metadata": {},
     "output_type": "execute_result"
    }
   ],
   "source": [
    "%pwd"
   ]
  },
  {
   "cell_type": "code",
   "execution_count": 5,
   "metadata": {},
   "outputs": [],
   "source": [
    "os.environ[\"MLFLOW_TRACKING_URL\"] = \"https://dagshub.com/KartikNimhan/Kidney-Disease-Classification-Deep-Learning-Project.mlflow\"\n",
    "os.environ[\"MLFLOW_TRACKING_USERNAME\"]=\"Kartik Nimhan\"\n",
    "os.environ[\"MLFLOW_TRACKING_PASSWORD\"]=\"819c140b14906695425a85526c4e38f678bc82e3\""
   ]
  },
  {
   "cell_type": "code",
   "execution_count": null,
   "metadata": {},
   "outputs": [],
   "source": []
  },
  {
   "cell_type": "code",
   "execution_count": 6,
   "metadata": {},
   "outputs": [
    {
     "data": {
      "text/html": [
       "<pre style=\"white-space:pre;overflow-x:auto;line-height:normal;font-family:Menlo,'DejaVu Sans Mono',consolas,'Courier New',monospace\">Accessing as KartikNimhan\n",
       "</pre>\n"
      ],
      "text/plain": [
       "Accessing as KartikNimhan\n"
      ]
     },
     "metadata": {},
     "output_type": "display_data"
    },
    {
     "data": {
      "text/html": [
       "<pre style=\"white-space:pre;overflow-x:auto;line-height:normal;font-family:Menlo,'DejaVu Sans Mono',consolas,'Courier New',monospace\">Initialized MLflow to track repo <span style=\"color: #008000; text-decoration-color: #008000\">\"KartikNimhan/Kidney-Disease-Classification-Deep-Learning-Project\"</span>\n",
       "</pre>\n"
      ],
      "text/plain": [
       "Initialized MLflow to track repo \u001b[32m\"KartikNimhan/Kidney-Disease-Classification-Deep-Learning-Project\"\u001b[0m\n"
      ]
     },
     "metadata": {},
     "output_type": "display_data"
    },
    {
     "data": {
      "text/html": [
       "<pre style=\"white-space:pre;overflow-x:auto;line-height:normal;font-family:Menlo,'DejaVu Sans Mono',consolas,'Courier New',monospace\">Repository KartikNimhan/Kidney-Disease-Classification-Deep-Learning-Project initialized!\n",
       "</pre>\n"
      ],
      "text/plain": [
       "Repository KartikNimhan/Kidney-Disease-Classification-Deep-Learning-Project initialized!\n"
      ]
     },
     "metadata": {},
     "output_type": "display_data"
    }
   ],
   "source": [
    "import dagshub\n",
    "import mlflow\n",
    "\n",
    "dagshub.init(repo_owner='KartikNimhan', repo_name='Kidney-Disease-Classification-Deep-Learning-Project', mlflow=True)\n",
    "\n",
    "mlflow.set_tracking_uri(\"https://dagshub.com/KartikNimhan/Kidney-Disease-Classification-Deep-Learning-Project.mlflow\")\n"
   ]
  },
  {
   "cell_type": "code",
   "execution_count": 7,
   "metadata": {},
   "outputs": [],
   "source": [
    "\n",
    "import tensorflow as tf"
   ]
  },
  {
   "cell_type": "code",
   "execution_count": 8,
   "metadata": {},
   "outputs": [
    {
     "name": "stdout",
     "output_type": "stream",
     "text": [
      "Path exists.\n"
     ]
    }
   ],
   "source": [
    "import os\n",
    "\n",
    "model_path = r\"D:\\End to end machine learning projects\\Kidney Disease classification predication\\Kidney-Disease-Classification-Deep-Learning-Project\\artifacts\\training\\model.h5\"\n",
    "if os.path.exists(model_path):\n",
    "    print(\"Path exists.\")\n",
    "else:\n",
    "    print(\"Path does not exist.\")\n"
   ]
  },
  {
   "cell_type": "code",
   "execution_count": 9,
   "metadata": {},
   "outputs": [],
   "source": [
    "import tensorflow as tf\n",
    "\n",
    "model_path = r\"D:\\End to end machine learning projects\\Kidney Disease classification predication\\Kidney-Disease-Classification-Deep-Learning-Project\\artifacts\\training\\model.h5\"\n",
    "model = tf.keras.models.load_model(model_path)\n"
   ]
  },
  {
   "cell_type": "code",
   "execution_count": 10,
   "metadata": {},
   "outputs": [],
   "source": [
    "from dataclasses import dataclass\n",
    "from pathlib import Path\n",
    "\n",
    "@dataclass(frozen=True)\n",
    "class EvaluationConfig:\n",
    "    path_of_model: Path\n",
    "    training_data: Path\n",
    "    all_params: dict\n",
    "    mlflow_uri: str\n",
    "    params_image_size: list\n",
    "    params_batch_size: int\n"
   ]
  },
  {
   "cell_type": "code",
   "execution_count": 11,
   "metadata": {},
   "outputs": [
    {
     "name": "stdout",
     "output_type": "stream",
     "text": [
      "CONFIG_FILE_PATH: D:\\End to end machine learning projects\\Kidney Disease classification predication\\Kidney-Disease-Classification-Deep-Learning-Project\\config\\config.yaml\n",
      "PARAMS_FILE_PATH: D:\\End to end machine learning projects\\Kidney Disease classification predication\\Kidney-Disease-Classification-Deep-Learning-Project\\params.yaml\n"
     ]
    }
   ],
   "source": [
    "\n",
    "from cnnClassifier.constants import *\n",
    "from cnnClassifier.utils.commom import read_yaml, create_directories, save_json"
   ]
  },
  {
   "cell_type": "code",
   "execution_count": 12,
   "metadata": {},
   "outputs": [],
   "source": [
    "class ConfigurationManager:\n",
    "    def __init__(\n",
    "        self, \n",
    "        config_filepath = CONFIG_FILE_PATH,\n",
    "        params_filepath = PARAMS_FILE_PATH):\n",
    "        self.config = read_yaml(config_filepath)\n",
    "        self.params = read_yaml(params_filepath)\n",
    "        create_directories([self.config.artifacts_root])\n",
    "\n",
    "    \n",
    "    def get_evaluation_config(self) -> EvaluationConfig:\n",
    "        eval_config = EvaluationConfig(\n",
    "            path_of_model=\"D:/End to end machine learning projects/Kidney Disease classification predication/Kidney-Disease-Classification-Deep-Learning-Project/artifacts/training/model.h5\",\n",
    "            training_data=\"D:/End to end machine learning projects/Kidney Disease classification predication/Kidney-Disease-Classification-Deep-Learning-Project/artifacts/data_ingestion/kidney-ct-scan-image\",\n",
    "            mlflow_uri=\"https://dagshub.com/KartikNimhan/Kidney-Disease-Classification-Deep-Learning-Project.mlflow\",\n",
    "            all_params=self.params,\n",
    "            params_image_size=self.params.IMAGE_SIZE,\n",
    "            params_batch_size=self.params.BATCH_SIZE\n",
    "        )\n",
    "        return eval_config"
   ]
  },
  {
   "cell_type": "code",
   "execution_count": 13,
   "metadata": {},
   "outputs": [],
   "source": [
    "\n",
    "import tensorflow as tf\n",
    "from pathlib import Path\n",
    "import mlflow\n",
    "import mlflow.keras\n",
    "from urllib.parse import urlparse\n"
   ]
  },
  {
   "cell_type": "code",
   "execution_count": 14,
   "metadata": {},
   "outputs": [],
   "source": [
    "import time\n",
    "import mlflow\n",
    "from urllib3.exceptions import ProtocolError\n",
    "from mlflow.exceptions import MlflowException\n",
    "\n",
    "class Evaluation:\n",
    "    def __init__(self, config: EvaluationConfig):\n",
    "        self.config = config\n",
    "\n",
    "    def _valid_generator(self):\n",
    "        datagenerator_kwargs = dict(\n",
    "            rescale=1./255,\n",
    "            validation_split=0.30\n",
    "        )\n",
    "\n",
    "        dataflow_kwargs = dict(\n",
    "            target_size=self.config.params_image_size[:-1],\n",
    "            batch_size=self.config.params_batch_size,\n",
    "            interpolation=\"bilinear\"\n",
    "        )\n",
    "\n",
    "        valid_datagenerator = tf.keras.preprocessing.image.ImageDataGenerator(\n",
    "            **datagenerator_kwargs\n",
    "        )\n",
    "\n",
    "        self.valid_generator = valid_datagenerator.flow_from_directory(\n",
    "            directory=self.config.training_data,\n",
    "            subset=\"validation\",\n",
    "            shuffle=False,\n",
    "            **dataflow_kwargs\n",
    "        )\n",
    "\n",
    "    @staticmethod\n",
    "    def load_model(path: Path) -> tf.keras.Model:\n",
    "        return tf.keras.models.load_model(path)\n",
    "\n",
    "    def evaluation(self):\n",
    "        self.model = self.load_model(self.config.path_of_model)\n",
    "        self._valid_generator()\n",
    "        self.score = self.model.evaluate(self.valid_generator)\n",
    "        self.save_score()\n",
    "\n",
    "    def save_score(self):\n",
    "        scores = {\"loss\": self.score[0], \"accuracy\": self.score[1]}\n",
    "        save_json(path=Path(\"scores.json\"), data=scores)\n",
    "\n",
    "    def log_into_mlflow(self, retries=3, delay=5):\n",
    "        mlflow.set_registry_uri(self.config.mlflow_uri)\n",
    "        tracking_url_type_store = urlparse(mlflow.get_tracking_uri()).scheme\n",
    "        \n",
    "        attempt = 0\n",
    "        while attempt < retries:\n",
    "            try:\n",
    "                with mlflow.start_run():\n",
    "                    mlflow.log_params(self.config.all_params)\n",
    "                    mlflow.log_metrics(\n",
    "                        {\"loss\": self.score[0], \"accuracy\": self.score[1]}\n",
    "                    )\n",
    "                    if tracking_url_type_store != \"file\":\n",
    "                        mlflow.keras.log_model(self.model, \"model\", registered_model_name=\"VGG16Model\")\n",
    "                    else:\n",
    "                        mlflow.keras.log_model(self.model, \"model\")\n",
    "                break\n",
    "            except (ProtocolError, MlflowException) as e:\n",
    "                attempt += 1\n",
    "                if attempt < retries:\n",
    "                    print(f\"Retry {attempt}/{retries} after {delay} seconds due to: {e}\")\n",
    "                    time.sleep(delay)\n",
    "                else:\n",
    "                    raise e\n"
   ]
  },
  {
   "cell_type": "code",
   "execution_count": 15,
   "metadata": {},
   "outputs": [
    {
     "name": "stdout",
     "output_type": "stream",
     "text": [
      "[2024-08-02 18:04:25,015: INFO: commom: yaml file: D:\\End to end machine learning projects\\Kidney Disease classification predication\\Kidney-Disease-Classification-Deep-Learning-Project\\config\\config.yaml loaded successfully]\n",
      "[2024-08-02 18:04:25,023: INFO: commom: yaml file: D:\\End to end machine learning projects\\Kidney Disease classification predication\\Kidney-Disease-Classification-Deep-Learning-Project\\params.yaml loaded successfully]\n",
      "[2024-08-02 18:04:25,025: INFO: commom: created directory at: artifacts]\n",
      "Found 139 images belonging to 2 classes.\n",
      "9/9 [==============================] - 55s 6s/step - loss: 9.6047 - accuracy: 0.6187\n",
      "[2024-08-02 18:05:20,979: INFO: commom: json file saved at: scores.json]\n"
     ]
    },
    {
     "name": "stderr",
     "output_type": "stream",
     "text": [
      "2024/08/02 18:05:23 WARNING mlflow.tensorflow: You are saving a TensorFlow Core model or Keras model without a signature. Inference with mlflow.pyfunc.spark_udf() will not work unless the model's pyfunc representation accepts pandas DataFrames as inference inputs.\n"
     ]
    },
    {
     "name": "stdout",
     "output_type": "stream",
     "text": [
      "[2024-08-02 18:05:25,122: WARNING: save: Found untraced functions such as _jit_compiled_convolution_op, _jit_compiled_convolution_op, _jit_compiled_convolution_op, _jit_compiled_convolution_op, _jit_compiled_convolution_op while saving (showing 5 of 14). These functions will not be directly callable after loading.]\n",
      "INFO:tensorflow:Assets written to: C:\\Users\\Kartik\\AppData\\Local\\Temp\\tmpmspjl33l\\model\\data\\model\\assets\n",
      "[2024-08-02 18:05:26,081: INFO: builder_impl: Assets written to: C:\\Users\\Kartik\\AppData\\Local\\Temp\\tmpmspjl33l\\model\\data\\model\\assets]\n",
      "[2024-08-02 18:05:39,515: WARNING: connectionpool: Retrying (Retry(total=4, connect=5, read=4, redirect=5, status=5)) after connection broken by 'ProtocolError('Connection aborted.', ConnectionResetError(10054, 'An existing connection was forcibly closed by the remote host', None, 10054, None))': /KartikNimhan/Kidney-Disease-Classification-Deep-Learning-Project.mlflow/api/2.0/mlflow/runs/get?run_uuid=6dd79bbad97540d59192b09570b040a0&run_id=6dd79bbad97540d59192b09570b040a0]\n"
     ]
    },
    {
     "name": "stderr",
     "output_type": "stream",
     "text": [
      "c:\\Users\\Kartik\\anaconda3\\envs\\kidney\\lib\\site-packages\\_distutils_hack\\__init__.py:26: UserWarning: Setuptools is replacing distutils.\n",
      "  warnings.warn(\"Setuptools is replacing distutils.\")\n"
     ]
    },
    {
     "name": "stdout",
     "output_type": "stream",
     "text": [
      "[2024-08-02 18:05:43,684: WARNING: connectionpool: Retrying (Retry(total=3, connect=5, read=3, redirect=5, status=5)) after connection broken by 'ProtocolError('Connection aborted.', ConnectionResetError(10054, 'An existing connection was forcibly closed by the remote host', None, 10054, None))': /KartikNimhan/Kidney-Disease-Classification-Deep-Learning-Project.mlflow/api/2.0/mlflow/runs/get?run_uuid=6dd79bbad97540d59192b09570b040a0&run_id=6dd79bbad97540d59192b09570b040a0]\n",
      "[2024-08-02 18:06:07,597: WARNING: connectionpool: Retrying (Retry(total=4, connect=5, read=4, redirect=5, status=5)) after connection broken by 'ProtocolError('Connection aborted.', ConnectionResetError(10054, 'An existing connection was forcibly closed by the remote host', None, 10054, None))': /KartikNimhan/Kidney-Disease-Classification-Deep-Learning-Project.mlflow/api/2.0/mlflow-artifacts/artifacts/bd8d61a822b94896b51c2e9610a3305d/6dd79bbad97540d59192b09570b040a0/artifacts/model/data/model/variables/variables.data-00000-of-00001]\n",
      "[2024-08-02 18:06:13,570: WARNING: connectionpool: Retrying (Retry(total=3, connect=5, read=3, redirect=5, status=5)) after connection broken by 'ProtocolError('Connection aborted.', ConnectionResetError(10054, 'An existing connection was forcibly closed by the remote host', None, 10054, None))': /KartikNimhan/Kidney-Disease-Classification-Deep-Learning-Project.mlflow/api/2.0/mlflow-artifacts/artifacts/bd8d61a822b94896b51c2e9610a3305d/6dd79bbad97540d59192b09570b040a0/artifacts/model/data/model/variables/variables.data-00000-of-00001]\n",
      "[2024-08-02 18:06:45,634: WARNING: connectionpool: Retrying (Retry(total=2, connect=5, read=2, redirect=5, status=5)) after connection broken by 'ProtocolError('Connection aborted.', ConnectionResetError(10054, 'An existing connection was forcibly closed by the remote host', None, 10054, None))': /KartikNimhan/Kidney-Disease-Classification-Deep-Learning-Project.mlflow/api/2.0/mlflow-artifacts/artifacts/bd8d61a822b94896b51c2e9610a3305d/6dd79bbad97540d59192b09570b040a0/artifacts/model/data/model/variables/variables.data-00000-of-00001]\n",
      "[2024-08-02 18:07:21,687: WARNING: connectionpool: Retrying (Retry(total=1, connect=5, read=1, redirect=5, status=5)) after connection broken by 'ProtocolError('Connection aborted.', ConnectionResetError(10054, 'An existing connection was forcibly closed by the remote host', None, 10054, None))': /KartikNimhan/Kidney-Disease-Classification-Deep-Learning-Project.mlflow/api/2.0/mlflow-artifacts/artifacts/bd8d61a822b94896b51c2e9610a3305d/6dd79bbad97540d59192b09570b040a0/artifacts/model/data/model/variables/variables.data-00000-of-00001]\n"
     ]
    },
    {
     "name": "stderr",
     "output_type": "stream",
     "text": [
      "Registered model 'VGG16Model' already exists. Creating a new version of this model...\n",
      "2024/08/02 18:07:58 INFO mlflow.tracking._model_registry.client: Waiting up to 300 seconds for model version to finish creation.                     Model name: VGG16Model, version 6\n",
      "Created version '6' of model 'VGG16Model'.\n"
     ]
    }
   ],
   "source": [
    "try:\n",
    "    config = ConfigurationManager()\n",
    "    eval_config = config.get_evaluation_config()\n",
    "    evaluation = Evaluation(eval_config)\n",
    "    evaluation.evaluation()\n",
    "    evaluation.log_into_mlflow()\n",
    "\n",
    "except Exception as e:\n",
    "   raise e"
   ]
  },
  {
   "cell_type": "code",
   "execution_count": null,
   "metadata": {},
   "outputs": [],
   "source": []
  },
  {
   "cell_type": "code",
   "execution_count": null,
   "metadata": {},
   "outputs": [],
   "source": []
  },
  {
   "cell_type": "code",
   "execution_count": null,
   "metadata": {},
   "outputs": [],
   "source": []
  }
 ],
 "metadata": {
  "kernelspec": {
   "display_name": "kidney",
   "language": "python",
   "name": "python3"
  },
  "language_info": {
   "codemirror_mode": {
    "name": "ipython",
    "version": 3
   },
   "file_extension": ".py",
   "mimetype": "text/x-python",
   "name": "python",
   "nbconvert_exporter": "python",
   "pygments_lexer": "ipython3",
   "version": "3.8.19"
  }
 },
 "nbformat": 4,
 "nbformat_minor": 2
}
